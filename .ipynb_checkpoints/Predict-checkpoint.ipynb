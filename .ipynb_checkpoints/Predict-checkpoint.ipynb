{
 "cells": [
  {
   "cell_type": "code",
   "execution_count": 1,
   "id": "b3e38dd4",
   "metadata": {
    "scrolled": true
   },
   "outputs": [],
   "source": [
    "import pickle"
   ]
  },
  {
   "cell_type": "code",
   "execution_count": 4,
   "id": "32d1d937",
   "metadata": {},
   "outputs": [],
   "source": [
    "import import_ipynb"
   ]
  },
  {
   "cell_type": "code",
   "execution_count": 11,
   "id": "0d67be64",
   "metadata": {},
   "outputs": [],
   "source": [
    "from Train_model import X_test, Y_test\n",
    "from Decision_tree import build_node, decision_tree_predict"
   ]
  },
  {
   "cell_type": "code",
   "execution_count": 12,
   "id": "5f3b8c9d",
   "metadata": {},
   "outputs": [],
   "source": [
    "with open('trained_model.ipynb', 'rb') as file:\n",
    "    model = pickle.load(file)"
   ]
  },
  {
   "cell_type": "code",
   "execution_count": 13,
   "id": "7933088b",
   "metadata": {},
   "outputs": [],
   "source": [
    "predictions = [decision_tree_predict(model, value) for value in X_test]"
   ]
  },
  {
   "cell_type": "code",
   "execution_count": 14,
   "id": "568c67f1",
   "metadata": {},
   "outputs": [],
   "source": [
    "counter = 0\n",
    "for i in range (len(predictions)):\n",
    "    if predictions[i] == Y_test[i]:\n",
    "        counter += 1"
   ]
  },
  {
   "cell_type": "code",
   "execution_count": 15,
   "id": "2ab61f54",
   "metadata": {},
   "outputs": [
    {
     "name": "stdout",
     "output_type": "stream",
     "text": [
      "0.5525024295432459\n"
     ]
    }
   ],
   "source": [
    "print(counter/len(predictions))"
   ]
  },
  {
   "cell_type": "markdown",
   "id": "9776e51b",
   "metadata": {},
   "source": [
    "Учитывая, что размер обучающей выборки очень маленький (всего 840 элементов - 2% от всей выборки), модель показывает неплохой результат - 55% верных предсказаний, что в 5,5 раз лучше, если бы она делала предсказания случайно."
   ]
  }
 ],
 "metadata": {
  "kernelspec": {
   "display_name": "Python 3 (ipykernel)",
   "language": "python",
   "name": "python3"
  },
  "language_info": {
   "codemirror_mode": {
    "name": "ipython",
    "version": 3
   },
   "file_extension": ".py",
   "mimetype": "text/x-python",
   "name": "python",
   "nbconvert_exporter": "python",
   "pygments_lexer": "ipython3",
   "version": "3.8.0"
  }
 },
 "nbformat": 4,
 "nbformat_minor": 5
}
