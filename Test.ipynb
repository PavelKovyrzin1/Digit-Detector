{
 "cells": [
  {
   "cell_type": "code",
   "execution_count": 7,
   "id": "295e20fd",
   "metadata": {},
   "outputs": [],
   "source": [
    "import pickle\n",
    "from PIL import Image\n",
    "import pandas as pd\n",
    "import matplotlib.pyplot as plt\n",
    "import seaborn as sns\n",
    "import numpy as np\n",
    "\n",
    "from Decision_tree import build_node, decision_tree_predict"
   ]
  },
  {
   "cell_type": "code",
   "execution_count": 15,
   "id": "b35f77a2",
   "metadata": {},
   "outputs": [],
   "source": [
    "with open('trained_model.ipynb', 'rb') as file:\n",
    "    model = pickle.load(file)"
   ]
  },
  {
   "cell_type": "code",
   "execution_count": 41,
   "id": "74cff005",
   "metadata": {},
   "outputs": [],
   "source": [
    "def predict_by_photo(path):\n",
    "    image = Image.open(path)\n",
    "    \n",
    "    image = image.convert('L')\n",
    "\n",
    "    image = image.resize((28, 28))\n",
    "    \n",
    "    pixel_array = list(image.getdata())\n",
    "    \n",
    "    return decision_tree_predict(model, pixel_array)"
   ]
  }
 ],
 "metadata": {
  "kernelspec": {
   "display_name": "Python 3 (ipykernel)",
   "language": "python",
   "name": "python3"
  },
  "language_info": {
   "codemirror_mode": {
    "name": "ipython",
    "version": 3
   },
   "file_extension": ".py",
   "mimetype": "text/x-python",
   "name": "python",
   "nbconvert_exporter": "python",
   "pygments_lexer": "ipython3",
   "version": "3.8.0"
  }
 },
 "nbformat": 4,
 "nbformat_minor": 5
}
